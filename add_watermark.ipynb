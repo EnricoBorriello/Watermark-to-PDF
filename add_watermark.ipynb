{
 "cells": [
  {
   "cell_type": "code",
   "execution_count": 14,
   "id": "98b0e31b-3f1c-47aa-b557-2821fc108f8b",
   "metadata": {},
   "outputs": [],
   "source": [
    "from PyPDF2 import PdfReader, PdfWriter\n",
    "from reportlab.pdfgen import canvas\n",
    "from reportlab.lib.colors import Color\n",
    "from io import BytesIO"
   ]
  },
  {
   "cell_type": "code",
   "execution_count": 71,
   "id": "f5773321-ec89-46b2-8c8f-2e0500ae52d6",
   "metadata": {},
   "outputs": [],
   "source": [
    "def add_footer(input_pdf, output_pdf, footer_text, position=(25, 25), font=(\"Helvetica\", 15)):\n",
    "    \"\"\"\n",
    "    Add a gray footer to a PDF file.\n",
    "    \"\"\"\n",
    "    # Read the existing PDF\n",
    "    reader = PdfReader(input_pdf)\n",
    "    writer = PdfWriter()\n",
    "\n",
    "    for page in reader.pages:\n",
    "        # Create a new PDF with the footer text\n",
    "        packet = BytesIO()\n",
    "        can = canvas.Canvas(packet)\n",
    "\n",
    "        # Set font\n",
    "        can.setFont(font[0], font[1])\n",
    "\n",
    "        # Set gray color for the text (RGB values: 0.5, 0.5, 0.5)\n",
    "        gray_color = Color(0.75, 0.75, 0.75)  # Gray\n",
    "        can.setFillColor(gray_color)\n",
    "\n",
    "        # Add the text at the specified position\n",
    "        can.drawString(*position, footer_text)\n",
    "        can.save()\n",
    "\n",
    "        # Merge the footer with the current page\n",
    "        packet.seek(0)\n",
    "        footer_pdf = PdfReader(packet)\n",
    "        page.merge_page(footer_pdf.pages[0])\n",
    "        writer.add_page(page)\n",
    "\n",
    "    # Write the new PDF to a file\n",
    "    with open(output_pdf, \"wb\") as f:\n",
    "        writer.write(f)"
   ]
  },
  {
   "cell_type": "code",
   "execution_count": 73,
   "id": "94142002-784e-4e0a-a0a4-9ea365abeadf",
   "metadata": {},
   "outputs": [],
   "source": [
    "watermark = \"Copyright © 2025 Enrico Borriello\""
   ]
  },
  {
   "cell_type": "code",
   "execution_count": 75,
   "id": "261d4e18-ca34-409d-90c5-5b9964b491fa",
   "metadata": {},
   "outputs": [],
   "source": [
    "# Example usage\n",
    "add_footer(\"Instructions.pdf\", \"Watermarked Instructions.pdf\", watermark)"
   ]
  },
  {
   "cell_type": "code",
   "execution_count": null,
   "id": "5db379a2-c312-4565-b1ea-8e1cc66fdb5c",
   "metadata": {},
   "outputs": [],
   "source": []
  }
 ],
 "metadata": {
  "kernelspec": {
   "display_name": "Python 3 (ipykernel)",
   "language": "python",
   "name": "python3"
  },
  "language_info": {
   "codemirror_mode": {
    "name": "ipython",
    "version": 3
   },
   "file_extension": ".py",
   "mimetype": "text/x-python",
   "name": "python",
   "nbconvert_exporter": "python",
   "pygments_lexer": "ipython3",
   "version": "3.12.4"
  }
 },
 "nbformat": 4,
 "nbformat_minor": 5
}
